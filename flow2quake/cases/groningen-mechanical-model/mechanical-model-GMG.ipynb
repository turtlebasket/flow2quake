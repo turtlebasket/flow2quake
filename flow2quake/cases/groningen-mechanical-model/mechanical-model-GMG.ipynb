{
 "cells": [
  {
   "cell_type": "markdown",
   "metadata": {},
   "source": [
    "# Groningen Mechanical model\n",
    "This notebook allows running the mechanical model developped at GMG for gas extraction from the Groningen gas field following Smith et al., 2022.\n",
    "\n",
    "The most complete description of the model can be found in:\n",
    "Smith, J. D., Heimisson, E. R., Bourne, S. J., & Avouac, J. P. (2022). Stress-based forecasting of induced seismicity with instantaneous earthquake failure functions: applications to the Groningen Gas Reservoir. Earth and Planetary Science Letters, 594, 117697.\n",
    "\n",
    "A full description of the needed libraries and tested practice on installation and running can be found in the file: Groningen_GMG_Mechanical_model_libraries.txt\n",
    "\n",
    "A description of the integration of this module with the rest of the modelling workflow can be found in the file:\n",
    "../README_GroningenModels_GMG.txt"
   ]
  },
  {
   "cell_type": "markdown",
   "metadata": {},
   "source": [
    "## 1. Libraries and data set-up"
   ]
  },
  {
   "cell_type": "markdown",
   "metadata": {},
   "source": [
    "### 1.1 Import librairies"
   ]
  },
  {
   "cell_type": "code",
   "execution_count": 1,
   "metadata": {},
   "outputs": [
    {
     "name": "stdout",
     "output_type": "stream",
     "text": [
      "Importing librairies...\n",
      "Librairies imported\n"
     ]
    }
   ],
   "source": [
    "print ('Importing librairies...')\n",
    "\n",
    "# System operations\n",
    "import sys\n",
    "from time import time\n",
    "# Math, Array and Dataformating\n",
    "import numpy as np\n",
    "import pandas as pd\n",
    "import math\n",
    "from scipy.interpolate import griddata\n",
    "# Plotting\n",
    "from shapely.geometry import Point as ShapelyPoint\n",
    "from shapely.geometry.polygon import Polygon as ShapelyPolygon\n",
    "import matplotlib.pyplot as plt\n",
    "from matplotlib.patches import Circle, Wedge, Polygon\n",
    "# Gaussian Smoothing\n",
    "from astropy.convolution import Gaussian2DKernel\n",
    "from astropy.convolution import convolve\n",
    "\n",
    "# Gaussian Smoothing Functions\n",
    "from astropy.convolution import Gaussian2DKernel\n",
    "from astropy.convolution import convolve\n",
    "\n",
    "from time import time\n",
    "print ('Librairies imported')"
   ]
  },
  {
   "cell_type": "markdown",
   "metadata": {},
   "source": [
    "### 1.2 Define the folders to be used"
   ]
  },
  {
   "cell_type": "code",
   "execution_count": 2,
   "metadata": {},
   "outputs": [],
   "source": [
    "data_folder = '../Reservoir_data/'\n",
    "results_folder = '../Simulation_results/'\n",
    "\n",
    "GF_folder = results_folder+'Greens_functions/'\n",
    "RESdata_folder = data_folder+'RESDictionary_data/'"
   ]
  },
  {
   "cell_type": "markdown",
   "metadata": {},
   "source": [
    "### 1.3 Load reservoir data"
   ]
  },
  {
   "cell_type": "code",
   "execution_count": 3,
   "metadata": {},
   "outputs": [
    {
     "name": "stdout",
     "output_type": "stream",
     "text": [
      "Loading reservoir data...\n",
      "Reservoir data loaded\n"
     ]
    }
   ],
   "source": [
    "print ('Loading reservoir data...')\n",
    "# Create the reservoir Geometry\n",
    "X, Y = np.mgrid[221.250:269.750:0.500, 566.000:615.500:0.500] #dim change\n",
    "# Load the Thickness data\n",
    "Thickness = np.load(data_folder + '/ReservoirThickness.npy') / 1000 #dim change\n",
    "# Load the reservoir outline\n",
    "Outline = pd.DataFrame(np.load(data_folder + '/ReservoirOutline.npy')) / 1000 #dim change\n",
    "#Load the compressibility from Smith et al., 2019\n",
    "CM_dict = np.load(open(data_folder+'Cm.p','rb'),allow_pickle=True)\n",
    "CM_grd = (CM_dict['InSARGPS'] + CM_dict['RAD'] + CM_dict['OL'])/3 #/1000 / 3600**2 #dim change, Pa-1\n",
    "print (\"Reservoir data loaded\")"
   ]
  },
  {
   "cell_type": "markdown",
   "metadata": {},
   "source": [
    "### 1.4 Load pressure data results from module [1]: Reservoir_model"
   ]
  },
  {
   "cell_type": "code",
   "execution_count": 4,
   "metadata": {},
   "outputs": [],
   "source": [
    "# The list containing pressures, each list element contains the spatial datum at iteration ii, from the mesh loaded right after it\n",
    "with open(results_folder + 'pressures_list.npy', 'rb') as f:\n",
    "    pressures_list = np.load(f,allow_pickle=True)\n",
    "# The mesh from the finite element reservoir simulation, it contains the spatial coordinates of the points where pressures are resolved\n",
    "with open(results_folder + 'MESH.npy', 'rb') as f:\n",
    "    MESH = np.load(f,allow_pickle=True)"
   ]
  },
  {
   "cell_type": "markdown",
   "metadata": {},
   "source": [
    "### 1.5 Import some necessary functions"
   ]
  },
  {
   "cell_type": "code",
   "execution_count": 5,
   "metadata": {},
   "outputs": [],
   "source": [
    "from util.stress_strain_v2 import create_groningen_object_depth_with_GF, create_groningen_object_depth_no_GF, compute_coulomb_stress_depth\n",
    "from util.auxiliary import file_exists"
   ]
  },
  {
   "cell_type": "markdown",
   "metadata": {},
   "source": [
    "## 2. Mechanical model calculations"
   ]
  },
  {
   "cell_type": "markdown",
   "metadata": {},
   "source": [
    "### 2.1 Compaction and Stress calculations"
   ]
  },
  {
   "cell_type": "code",
   "execution_count": null,
   "metadata": {
    "scrolled": true
   },
   "outputs": [
    {
     "name": "stdout",
     "output_type": "stream",
     "text": [
      "Creating Groningen object... "
     ]
    },
    {
     "name": "stderr",
     "output_type": "stream",
     "text": [
      "Observation Points Boundary Check: 100%|███████████████████████████| 6351/6351 [00:03<00:00, 1965.06it/s]\n"
     ]
    },
    {
     "name": "stdout",
     "output_type": "stream",
     "text": [
      "[DONE]\n",
      "Loading G matrix...\n",
      "G matrix loaded\n",
      "Compute displacement and stress on cpu... (could be long, set activate_cuda=True if you have a gpu)\n"
     ]
    },
    {
     "name": "stderr",
     "output_type": "stream",
     "text": [
      "Time-Evolution Values:  60%|█████████████████████████▎                | 603/1000 [09:11<10:32,  1.59s/it]"
     ]
    }
   ],
   "source": [
    "# Define the depths at which the calculation will be done \n",
    "# z axis is positive toward depth so -10 will calculate at 10m above the reservoir.\n",
    "depths = [-10]\n",
    "max_coulomb_stress_depths={}\n",
    "\n",
    "\n",
    "# Loop for all the depths where we want to calculate the Stresses\n",
    "for depth in depths:\n",
    "    # Creation of the Groningen objects with conditional Green's functions for given depths\n",
    "    # the green's functions will be computed only if they don't exist and will be stored to \"Simulation_results/Greens_functions/\"\n",
    "    file_GF_disp = f'G_matrix_disp_{depth}m.pt'\n",
    "    file_GF_sigma = f'G_matrix_sigma_{depth}m.pt'\n",
    "    if (file_exists(GF_folder+file_GF_disp) and file_exists(GF_folder+file_GF_sigma)):\n",
    "        grg = create_groningen_object_depth_no_GF(RESdata_folder,GF_folder,depth)\n",
    "    else:\n",
    "        grg = create_groningen_object_depth_with_GF(RESdata_folder,GF_folder,depth)\n",
    "    \n",
    "    # Set activate_cuda=True in compute_coulomb_stress if you have a gpu on your computer, much faster than on the cp\n",
    "    activate_cuda = False\n",
    "    if activate_cuda:\n",
    "        #They clean the gpu memory which can be saturated if you run the code several times without restarting the kernel\n",
    "        from torch.cuda import empty_cache\n",
    "        empty_cache()\n",
    "        \n",
    "    # Calculate the Coulomb stresses in any case and store it to the dictionary max_coulomb_stress_depths.  \n",
    "    max_coulomb_stress_depths[f'{depth}m'] = compute_coulomb_stress_depth(grg, RESdata_folder, MESH, pressures_list,GF_folder, activate_cuda=False,depth=depth)\n"
   ]
  },
  {
   "cell_type": "markdown",
   "metadata": {},
   "source": [
    "### 2.2 Subsidence calculation"
   ]
  },
  {
   "cell_type": "markdown",
   "metadata": {},
   "source": [
    "#### 2.2.1 Creation of the subsidence matrix"
   ]
  },
  {
   "cell_type": "code",
   "execution_count": null,
   "metadata": {},
   "outputs": [],
   "source": [
    "# from subsidence_matrix import create_subsidence_matrix\n",
    "from util.subsidence_matrix import create_subsidence_matrix_fromGF\n",
    "\n",
    "#Creates the matrix by which you multiply the pressure to get the subsidence\n",
    "#This cell can be run once to create the C_matrix in simulation_results/Greens_functions, then you can just load it to avoid recomputing it each time\n",
    "\n",
    "#Load all the needed data for subsidence matrix\n",
    "if not file_exists(GF_folder+f'SurfaceGreensFunction_vertical_displacement_only_{1}m.npy'):\n",
    "    from util.stress_strain_v2 import compute_surfaceGF_z\n",
    "    compute_surfaceGF_z(RESdata_folder,GF_folder)\n",
    "\n",
    "    ####Two test lines\n",
    "depths=[-10]\n",
    "grg = create_groningen_object_depth_no_GF(RESdata_folder,GF_folder,depths[0])\n",
    "G_vertical_displacement = np.load(GF_folder+f'SurfaceGreensFunction_vertical_displacement_only_{1}m.npy')\n",
    "MESH = np.load(results_folder+'MESH.npy')\n",
    "GF_new_mesh = create_subsidence_matrix_fromGF(MESH, grg.BLOCKS, G_vertical_displacement)\n",
    "del G_vertical_displacement\n",
    "\n",
    "#Defining the displacement function\n",
    "displacement = lambda pressure_array : np.matmul(GF_new_mesh, pressure_array)"
   ]
  },
  {
   "cell_type": "markdown",
   "metadata": {},
   "source": [
    "#### 2.2.3 Main loop for subsidence calculation"
   ]
  },
  {
   "cell_type": "code",
   "execution_count": null,
   "metadata": {},
   "outputs": [],
   "source": [
    "#Creation of empty list which will contain the deformation results\n",
    "deformations_list = []\n",
    "\n",
    "#Always run the previous cell before this one, otherwise pressures_list, extractions_list and deformations_list won't be reset\n",
    "nb_iterations = len(pressures_list) #60 #One iteration = one month starting Jan/1956\n",
    "\n",
    "for i in range (1,nb_iterations) :    \n",
    "    print ('Progression : ' + str(int(i/nb_iterations*100)) + '%', end=\"\\r\")\n",
    "    #Get last values for pressure and gas_extraction\n",
    "    pres = pressures_list[i]\n",
    "    #Compute deformations\n",
    "    new_deformation = displacement(pres)\n",
    "    deformations_list.append(new_deformation)\n",
    "    \n",
    "print ('Deformations computed:')\n"
   ]
  },
  {
   "cell_type": "markdown",
   "metadata": {},
   "source": [
    "### 2.3 Save simulation results "
   ]
  },
  {
   "cell_type": "code",
   "execution_count": null,
   "metadata": {},
   "outputs": [],
   "source": [
    "print ('Saving simulations results...')\n",
    "with open(results_folder + 'deformations_list.npy', 'wb') as f:\n",
    "    np.save(f,deformations_list)\n",
    "with open(results_folder + 'max_coulomb_stresses.npy', 'wb') as f:\n",
    "    np.save(f,max_coulomb_stress_depths)\n",
    "print (\"[DONE]\")"
   ]
  },
  {
   "cell_type": "markdown",
   "metadata": {},
   "source": [
    "## 3. A few plots"
   ]
  },
  {
   "cell_type": "code",
   "execution_count": null,
   "metadata": {
    "scrolled": true
   },
   "outputs": [],
   "source": [
    "#Plot 1: plot the simulation results at different times \n",
    "iterations = [200,500,700,800]\n",
    "depth = depths[0] #depth for the coulomb stress plot below the reservoir\n",
    "max_coulomb_stress = max_coulomb_stress_depths[f'{depths[0]}m']\n",
    "\n",
    "## import some functions\n",
    "from astropy.convolution import Gaussian2DKernel\n",
    "from astropy.convolution import convolve\n",
    "## import the simulation data\n",
    "max_coulomb_stress = max_coulomb_stress[:,:,1:]\n",
    "GasData = np.load(data_folder + 'WellInformation.npy', allow_pickle=True).item() # the information on the well clusters and gas extraction data\n",
    "wells_locations = np.array(GasData['WellLocations'])[:,1:].astype(np.int32)/1000\n",
    "wells_names = np.array(GasData['WellLocations'])[:,0]\n",
    "well_color='olive'\n",
    "well_scatter_size=50\n",
    "## Determine the best scales for the plots\n",
    "### Min and max values for pressure\n",
    "min_p = np.min(min (pressures_list[iterations[0]:iterations[-1]], key=lambda num_ar: np.min(num_ar)))\n",
    "max_p = np.max(max (pressures_list[iterations[0]:iterations[-1]], key=lambda num_ar: np.max(num_ar)))\n",
    "### Min and max values for subsidence\n",
    "initial_deformations = deformations_list [0]\n",
    "final_deformations = deformations_list[iterations[-1]]\n",
    "min_z = min(0, np.min(final_deformations - initial_deformations))\n",
    "max_z = max(0, np.max(final_deformations - initial_deformations))\n",
    "### Min and max values for coulomb_stress, kernel definition\n",
    "kernel = Gaussian2DKernel(6)\n",
    "min_cs = np.nanmin(max_coulomb_stress)\n",
    "max_cs = np.nanmax(convolve(max_coulomb_stress[:,:,iterations[-1]],kernel,nan_treatment='fill'))\n",
    "### Adaptation to km \n",
    "RES = grg.RES\n",
    "x_outline = RES['Outline']['X']/1000\n",
    "y_outline = RES['Outline']['Y']/1000\n",
    "res_outline = RES['Outline']/1000\n",
    "B= grg.BLOCKS\n",
    "x_reservoir_mesh = (B['X']/1000).to_numpy()\n",
    "y_reservoir_mesh = (B['Y']/1000).to_numpy()\n",
    "x_res = RES['X'] / 1000\n",
    "y_res = RES['Y'] / 1000\n",
    "x_mesh = MESH[:, 0]\n",
    "y_mesh = MESH[:, 1]\n",
    "\n",
    "# Plot the figure\n",
    "fig,ax = plt.subplots(3,len(iterations),figsize=(4.4*len(iterations),4*(3)+1))\n",
    "for jj in range(len(iterations)):\n",
    "    #First subplot : pressure\n",
    "    ii=0\n",
    "    quad1 = ax[ii,jj].scatter(x_mesh,y_mesh, c=pressures_list[iterations[jj]],cmap='Blues', vmin = min_p, vmax = max_p, label='Pressure',zorder=1)\n",
    "    #Second subplot : subsidence\n",
    "    ii=1\n",
    "    quad2 = ax[ii,jj].scatter(x_reservoir_mesh,y_reservoir_mesh,50,1e3*(deformations_list[iterations[jj]] - initial_deformations),cmap='Spectral', vmin=1e3*min_z, vmax=1e3*max_z, label='Subsidence', alpha=1,zorder=1)\n",
    "    #Third subplot : Coulomb_stress\n",
    "    ii=2\n",
    "    smoothed_coulomb_stress = convolve(max_coulomb_stress[:,:,iterations[jj]],kernel,nan_treatment='fill')\n",
    "    quad3 = ax[ii,jj].scatter(x_res.flatten(), y_res.flatten(), c=smoothed_coulomb_stress, cmap='coolwarm', vmin=min_cs, vmax=max_cs,zorder=1)\n",
    "\n",
    "    for ii in [0,1,2]:\n",
    "        ax[ii,jj].scatter(wells_locations[:, 0], wells_locations[:, 1], edgecolors=well_color, marker='o', s=well_scatter_size, label='Wells',zorder=2).set_facecolor('None')\n",
    "        ax[ii,jj].scatter(wells_locations[:, 0], wells_locations[:, 1], edgecolors=well_color, marker='o', s=int(well_scatter_size/10),zorder=2).set_facecolor('None')\n",
    "        ax[ii,jj].scatter(245, 595, edgecolors='blueviolet', marker='s', s=well_scatter_size*1.3, label='Measurement point',zorder=3).set_facecolor('None')\n",
    "        ax[ii,jj].scatter(245, 595, edgecolors='blueviolet', marker='s', s=well_scatter_size*0.2, label='Measurement point',zorder=4).set_facecolor('None')\n",
    "        ax[ii,jj].plot(x_outline,y_outline,'k--',zorder=3)\n",
    "        ax[ii,jj].text(270, 611, '{}'.format(GasData['Date'][iterations[jj]].strftime('%Y-%m')),horizontalalignment='right',verticalalignment='top',bbox=dict(facecolor='w', edgecolor='k'))\n",
    "        ax[ii,jj].set_xlim([230.000,270.000])\n",
    "        ax[ii,jj].set_ylim([565.000,615.000])\n",
    "        ax[ii,jj].set_xlabel('x (km)')\n",
    "        ax[ii,jj].set_ylabel('y (km)')\n",
    "        ax[ii,jj].set_aspect('equal')\n",
    "plt.tight_layout()\n",
    "\n",
    "fig.subplots_adjust(left=0.12)\n",
    "cbar_ax_press = fig.add_axes([0.05, 0.72, 0.02,0.3-0.04])\n",
    "cbar_ax_disp = fig.add_axes([0.05, 0.4, 0.02,0.3-0.04])\n",
    "cbar_ax_stress = fig.add_axes([0.05, 0.05,0.02,(0.3-0.04)])\n",
    "cb_press = fig.colorbar(quad1, cax=cbar_ax_press,orientation='vertical',label='Pressure (MPa)')\n",
    "cb_press.ax.yaxis.set_ticks_position('left')\n",
    "cb_press.ax.yaxis.set_label_position('left')\n",
    "cb_disp = fig.colorbar(quad2, cax=cbar_ax_disp,orientation='vertical',label='Z displacement (mm)')\n",
    "cb_disp.ax.yaxis.set_ticks_position('left')\n",
    "cb_disp.ax.yaxis.set_label_position('left')\n",
    "cb_stress = fig.colorbar(quad3, cax=cbar_ax_stress,orientation='vertical',label='Coulomb stress change (MPa)'.format(depth))\n",
    "cb_stress.ax.yaxis.set_ticks_position('left')\n",
    "cb_stress.ax.yaxis.set_label_position('left')\n",
    "plt.show()\n"
   ]
  },
  {
   "cell_type": "code",
   "execution_count": null,
   "metadata": {},
   "outputs": [],
   "source": [
    "# Generate the timeseries for the next plot\n",
    "time = pd.date_range(\"1956-01-01\", periods=nb_iterations-1, freq=\"M\")\n",
    "pressures = [np.mean(press) for press in pressures_list[1:]]\n",
    "deformations = [np.mean(deform)-np.mean(deformations_list[0]) for deform in deformations_list]\n",
    "stresses = [np.mean(convolve(max_coulomb_stress[:,:,ii],kernel,nan_treatment='fill'),axis=(0,1)) for ii in range(max_coulomb_stress.shape[-1])]"
   ]
  },
  {
   "cell_type": "code",
   "execution_count": null,
   "metadata": {
    "scrolled": true
   },
   "outputs": [],
   "source": [
    "#Plot 2: plot the simulation results timeseries averaged in the reservoir.\n",
    "\n",
    "fig,ax = plt.subplots(1,figsize=(5*3+1,5))\n",
    "# Define the spines for different y axes.\n",
    "twin1 = ax.twinx()\n",
    "twin2 = ax.twinx()\n",
    "# Offset the right spine of twin2.  The ticks and label have already been\n",
    "# placed on the right by twinx above.\n",
    "twin2.spines.right.set_position((\"axes\", 1.08))\n",
    "ax.set_xlabel(\"Time\")\n",
    "ax.set_ylabel(\"Average Pressure (MPa)\")\n",
    "twin1.set_ylabel(\"Average Subsidence (mm)\")\n",
    "twin2.set_ylabel(f\"Average MCS calc at {-depths[0]}m above reservoir (MPa)\")\n",
    "\n",
    "#plot the data\n",
    "#First axis: pressure\n",
    "# inset_ax # \n",
    "p1 = ax.plot(time, pressures,c='navy',label='Average Pressure (MPa)',zorder=1)\n",
    "#Second axis: subsidence\n",
    "p2 = twin1.plot(time,1e3*np.array(deformations),c='olive',label='Average Subsidence (mm)', alpha=1,zorder=1)\n",
    "#Third axis: Coulomb_stress\n",
    "p3 = twin2.plot(time[:max_coulomb_stress.shape[2]], stresses,label='MCS 5m above reservoir (MPa)', c='darkred',zorder=1)\n",
    "\n",
    "\n",
    "# correct the spines for different y axes.\n",
    "ax.yaxis.label.set_color(p1[0].get_color())\n",
    "twin1.yaxis.label.set_color(p2[0].get_color())\n",
    "twin2.yaxis.label.set_color(p3[0].get_color())\n",
    "tkw = dict(size=4, width=1.5)\n",
    "ax.tick_params(axis='y', colors=p1[0].get_color(), **tkw)\n",
    "twin1.tick_params(axis='y', colors=p2[0].get_color(), **tkw)\n",
    "twin2.tick_params(axis='y', colors=p3[0].get_color(), **tkw)\n",
    "ax.tick_params(axis='x', **tkw)\n",
    "ax.set_ylim([1,36])\n",
    "\n",
    "plt.show()\n"
   ]
  },
  {
   "cell_type": "code",
   "execution_count": null,
   "metadata": {},
   "outputs": [],
   "source": []
  }
 ],
 "metadata": {
  "interpreter": {
   "hash": "916dbcbb3f70747c44a77c7bcd40155683ae19c65e1c03b4aa3499c5328201f1"
  },
  "kernelspec": {
   "display_name": "Python 3 (ipykernel)",
   "language": "python",
   "name": "python3"
  },
  "language_info": {
   "codemirror_mode": {
    "name": "ipython",
    "version": 3
   },
   "file_extension": ".py",
   "mimetype": "text/x-python",
   "name": "python",
   "nbconvert_exporter": "python",
   "pygments_lexer": "ipython3",
   "version": "3.10.0"
  }
 },
 "nbformat": 4,
 "nbformat_minor": 4
}
