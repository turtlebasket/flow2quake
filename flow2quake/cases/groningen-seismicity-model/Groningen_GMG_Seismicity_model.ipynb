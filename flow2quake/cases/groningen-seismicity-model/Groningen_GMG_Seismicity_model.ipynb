{
 "cells": [
  {
   "cell_type": "markdown",
   "id": "d791c8c6",
   "metadata": {},
   "source": [
    "# Groningen Seismicity model\n",
    "This notebook allows running the seismicity model developped at GMG for gas extraction from the Groningen gas field following Smith et al., 2022, Heimisson et al., 2022, and Meyer et al.,2022.\n",
    "\n",
    "The most complete description of the model can be found in:\n",
    "\n",
    "Smith, J. D., Heimisson, E. R., Bourne, S. J., & Avouac, J. P. (2022). Stress-based forecasting of induced seismicity with instantaneous earthquake failure functions: applications to the Groningen Gas Reservoir. Earth and Planetary Science Letters, 594, 117697.\n",
    "\n",
    "---and---\n",
    "\n",
    "Heimisson, E. R., Smith, J. D., Avouac, J. P., & Bourne, S. J. (2022). Coulomb threshold rate-and-state model for fault reactivation: application to induced seismicity at Groningen. Geophysical Journal International, 228(3), 2061-2072.\n",
    "\n",
    "\n",
    "A full description of the needed libraries and tested practice on installation and running can be found in the file: Groningen_GMG_Seismicity_model_libraries.txt\n",
    "\n",
    "A description of the integration of this module with the rest of the modelling workflow can be found in the file:\n",
    "../README_GroningenModels_GMG.txt"
   ]
  },
  {
   "cell_type": "markdown",
   "id": "cd15b8a4",
   "metadata": {},
   "source": [
    "## 1. Libraries and data set-up"
   ]
  },
  {
   "cell_type": "markdown",
   "id": "7239eac8",
   "metadata": {},
   "source": [
    "### 1.1. Import Libraries"
   ]
  },
  {
   "cell_type": "code",
   "execution_count": 1,
   "id": "ca698ae2",
   "metadata": {
    "scrolled": true
   },
   "outputs": [],
   "source": [
    "import pymc3 as pm\n",
    "import numpy as np\n",
    "from numpy.lib.stride_tricks import as_strided # to average arrays\n",
    "import matplotlib.pylab as plt\n",
    "import seaborn as sns\n",
    "from math import *\n",
    "import pandas as pd \n",
    "from matplotlib.patches import Circle, Wedge, Polygon\n",
    "import scipy\n",
    "import theano.tensor as tt\n",
    "#the fancy axes\n",
    "import matplotlib.gridspec as gridspec\n",
    "# Gaussian Smoothing\n",
    "from astropy.convolution import Gaussian2DKernel\n",
    "from astropy.convolution import convolve"
   ]
  },
  {
   "cell_type": "markdown",
   "id": "3115e637",
   "metadata": {},
   "source": [
    "### 1.2. Import functions"
   ]
  },
  {
   "cell_type": "code",
   "execution_count": 2,
   "id": "56e3efe9",
   "metadata": {},
   "outputs": [],
   "source": [
    "from util.plotting import cornerplot, rateplot\n",
    "from util.failure import *\n",
    "from util.forecasting import *"
   ]
  },
  {
   "cell_type": "markdown",
   "id": "d4db3be4",
   "metadata": {},
   "source": [
    "## 2. MCMC inference"
   ]
  },
  {
   "cell_type": "markdown",
   "id": "9d4ba112",
   "metadata": {},
   "source": [
    "### 2.1. Define the method to be used, and inference parameters"
   ]
  },
  {
   "cell_type": "code",
   "execution_count": 3,
   "id": "d87d65be",
   "metadata": {},
   "outputs": [],
   "source": [
    "# Choose the failure function to be used\n",
    "## TRS == Treshold Rate and State --> Heimisson et al., 2022\n",
    "## RS == Classic Rate and State --> Dieterich., 1994\n",
    "## ET == Extreme Threshold --> Bourne et al., 2017\n",
    "## GF == Gaussian Failure --> Smith et al., 2022\n",
    "\n",
    "Failure_function = 'TRS'\n",
    "LogLikelihood = 'Gaussian'\n",
    "\n",
    "if Failure_function =='TRS':\n",
    "    method = ThresholdRateAndState_logSampled()\n",
    "    labels = ['$r$ (evts/year)','$A \\sigma$ (MPa)','$\\Delta S_c$ (MPa)','$t_a$ (years)']\n",
    "    LLK = LogLikelihood # log likelihood\n",
    "    \n",
    "elif Failure_function =='RS':\n",
    "    method = ClassicRateAndState_logSampled() \n",
    "    labels = ['$r$ (evts/year)','$A \\sigma$ (MPa)','$t_a$ (years)']\n",
    "    LLK = LogLikelihood # log likelihood\n",
    "\n",
    "elif Failure_function =='ET':\n",
    "    method = ExtremeThreshold() \n",
    "    labels = ['$\\beta_0$','$\\beta_1$','$\\beta_2$']\n",
    "    LLK = LogLikelihood # log likelihood\n",
    "\n",
    "elif Failure_function =='GF':\n",
    "    method = GaussianFailure()\n",
    "    labels = ['$\\beta_0$','$\\beta_1$','$\\beta_2$']\n",
    "    LLK = LogLikelihood # log likelihood\n",
    "    \n",
    "# Define parameters for the inversions\n",
    "Num_samples = 5000 # samples for the MCMC inversion\n",
    "Warmup_percentage = 20 # percentage burn-in samples\n",
    "Num_chains = 10  #number of chains for the inversion\n",
    "Training = [1992,2016] # Training period\n",
    "Validation = [2016,2022] # Validation period"
   ]
  },
  {
   "cell_type": "markdown",
   "id": "69d437e5",
   "metadata": {},
   "source": [
    "### 2.2. Prepare the data for the MCMC"
   ]
  },
  {
   "cell_type": "code",
   "execution_count": 4,
   "id": "888f161c",
   "metadata": {
    "scrolled": true
   },
   "outputs": [],
   "source": [
    "# Load the Coulomb Stress data and average yearly\n",
    "dC_raw = np.load('../Simulation_results/max_coulomb_stresses.npy',allow_pickle=True).item()['-10m'] # use item() because it is an object array that can contain calculations at different depths\n",
    "# Smooth it to 3km \n",
    "kernel = Gaussian2DKernel(6)\n",
    "dC = np.array([convolve(dC_raw[:,:,ii],kernel,nan_treatment='fill') for ii in range(dC_raw.shape[-1])]).transpose((1, 2, 0))\n",
    "\n",
    "# Average yearly\n",
    "dC_y ={} # Disctionnary to store the yearly data\n",
    "dC_y['Coulomb'] = np.nanmean(as_strided(dC, shape=(dC.shape[0], dC.shape[1], int(dC.shape[-1]/12), 12),strides=(dC.strides[0], dC.strides[1], dC.strides[2]*12, dC.strides[2])),axis=3)\n",
    "dC_y['Time']    = np.arange(0,dC_y['Coulomb'].shape[-1])*(1)+1956.0\n",
    "\n",
    "# Load the seismicity catalog\n",
    "catalog_file = '../Reservoir_data/Seismic_catalog/KNMI_CAT_1991-12to2023-01_InsideReservoir.csv'\n",
    "\n",
    "# Define the completion magnitude to use\n",
    "Mc =1.5"
   ]
  },
  {
   "cell_type": "markdown",
   "id": "7bc6bf16",
   "metadata": {},
   "source": [
    "### 2.3. Run MCMC"
   ]
  },
  {
   "cell_type": "code",
   "execution_count": null,
   "id": "41c821f0",
   "metadata": {},
   "outputs": [
    {
     "name": "stdout",
     "output_type": "stream",
     "text": [
      "========= Training - Running MCMC =========\n"
     ]
    }
   ],
   "source": [
    "# Run the MCMC inversion\n",
    "# Create the forecasting object\n",
    "SF = SeismicityForecasting(method,catalog_file,dC_y,num_samples=Num_samples,warmup_percentage=Warmup_percentage,num_chains=Num_chains,Mc=Mc)# load the forecasting model and give the parameters)\n",
    "# Run the inference\n",
    "SF.run(training=Training,validation=Validation,LLK=LLK)"
   ]
  },
  {
   "cell_type": "markdown",
   "id": "2f5e24af",
   "metadata": {},
   "source": [
    "## 3. Plot the results"
   ]
  },
  {
   "cell_type": "markdown",
   "id": "81b3676c",
   "metadata": {},
   "source": [
    "### 3.1 The corner plots for best parameters"
   ]
  },
  {
   "cell_type": "code",
   "execution_count": null,
   "id": "f29068f0",
   "metadata": {},
   "outputs": [],
   "source": [
    "# Plot the data\n",
    "File_cornerplot = f'Figures/cornerplot_method={method}.png'\n",
    "cornerplot(SF,File_cornerplot)"
   ]
  },
  {
   "cell_type": "markdown",
   "id": "f6a5f5ce",
   "metadata": {},
   "source": [
    "### 3.2. The rate plots for temporal evolution"
   ]
  },
  {
   "cell_type": "code",
   "execution_count": null,
   "id": "f1b90c03",
   "metadata": {},
   "outputs": [],
   "source": [
    "File_rateplot = f'Figures/rateplot_method={method}.png'\n",
    "rateplot(SF,File_rateplot)"
   ]
  }
 ],
 "metadata": {
  "kernelspec": {
   "display_name": "Python 3 (ipykernel)",
   "language": "python",
   "name": "python3"
  },
  "language_info": {
   "codemirror_mode": {
    "name": "ipython",
    "version": 3
   },
   "file_extension": ".py",
   "mimetype": "text/x-python",
   "name": "python",
   "nbconvert_exporter": "python",
   "pygments_lexer": "ipython3",
   "version": "3.8.18"
  }
 },
 "nbformat": 4,
 "nbformat_minor": 5
}
